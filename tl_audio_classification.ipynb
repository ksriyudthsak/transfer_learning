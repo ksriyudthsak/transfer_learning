{
 "cells": [
  {
   "cell_type": "code",
   "execution_count": 1,
   "metadata": {},
   "outputs": [],
   "source": [
    "# Set random seed\n",
    "# Reference from: https://qiita.com/okotaku/items/8d682a11d8f2370684c9"
   ]
  },
  {
   "cell_type": "code",
   "execution_count": 2,
   "metadata": {},
   "outputs": [
    {
     "name": "stderr",
     "output_type": "stream",
     "text": [
      "C:\\ProgramData\\Anaconda3\\lib\\site-packages\\h5py\\__init__.py:36: FutureWarning: Conversion of the second argument of issubdtype from `float` to `np.floating` is deprecated. In future, it will be treated as `np.float64 == np.dtype(float).type`.\n",
      "  from ._conv import register_converters as _register_converters\n",
      "Using TensorFlow backend.\n"
     ]
    }
   ],
   "source": [
    "import os\n",
    "import numpy as np\n",
    "import random as rn\n",
    "import tensorflow as tf\n",
    "\n",
    "os.environ['PYTHONHASHSEED'] = '0'\n",
    "np.random.seed(7)\n",
    "rn.seed(7)\n",
    "\n",
    "session_conf = tf.ConfigProto(\n",
    "    intra_op_parallelism_threads=1,\n",
    "    inter_op_parallelism_threads=1\n",
    ")\n",
    "\n",
    "from keras import backend as K\n",
    "\n",
    "tf.set_random_seed(7)\n",
    "sess = tf.Session(graph=tf.get_default_graph(), config=session_conf)\n",
    "K.set_session(sess)"
   ]
  },
  {
   "cell_type": "markdown",
   "metadata": {},
   "source": [
    "# build a transfer learning model"
   ]
  },
  {
   "cell_type": "code",
   "execution_count": 3,
   "metadata": {},
   "outputs": [],
   "source": [
    "import glob\n",
    "import numpy as np\n",
    "import matplotlib.pyplot as plt\n",
    "from keras.preprocessing.image import ImageDataGenerator, load_img, img_to_array, array_to_img\n",
    "%matplotlib inline"
   ]
  },
  {
   "cell_type": "code",
   "execution_count": 4,
   "metadata": {},
   "outputs": [
    {
     "name": "stdout",
     "output_type": "stream",
     "text": [
      "Train dataset shape: (150, 150, 150, 3) \n",
      "Validation dataset shape: (75, 150, 150, 3)\n"
     ]
    }
   ],
   "source": [
    "from sklearn.model_selection import train_test_split\n",
    "\n",
    "IMG_DIM = (150, 150)\n",
    "\n",
    "# Load image and covert to numpy array\n",
    "all_files = glob.glob('fig_wave/*')\n",
    "# all_files = glob.glob('fig_specgram/*')\n",
    "all_imgs = [img_to_array(load_img(img, target_size=IMG_DIM)) for img in all_files]\n",
    "all_imgs = np.array(all_imgs)\n",
    "all_labels = [fn.split('\\\\')[1].split('.')[0].split('_')[0].strip() for fn in all_files]\n",
    "\n",
    "# Seperate train and validation dataset\n",
    "train_imgs, not_train_imgs, train_labels, not_train_labels = train_test_split(all_imgs, all_labels, test_size=0.5, random_state=42)\n",
    "validation_imgs, test_imgs, validation_labels, test_labels = train_test_split(not_train_imgs, not_train_labels, test_size=0.5, random_state=42)\n",
    "\n",
    "print('Train dataset shape:', train_imgs.shape, \n",
    "      '\\nValidation dataset shape:', validation_imgs.shape)"
   ]
  },
  {
   "cell_type": "code",
   "execution_count": 5,
   "metadata": {},
   "outputs": [],
   "source": [
    "# Scale the images\n",
    "train_imgs_scaled = train_imgs.astype('float32')\n",
    "validation_imgs_scaled  = validation_imgs.astype('float32')\n",
    "test_imgs_scaled = test_imgs.astype('float32')\n",
    "train_imgs_scaled /= 255\n",
    "validation_imgs_scaled /= 255\n",
    "test_imgs_scaled /= 255"
   ]
  },
  {
   "cell_type": "code",
   "execution_count": 6,
   "metadata": {},
   "outputs": [
    {
     "name": "stdout",
     "output_type": "stream",
     "text": [
      "['waterfall', 'pond', 'waterfall', 'waterfall'] [1 0 1 1]\n",
      "(150,) (75,)\n"
     ]
    }
   ],
   "source": [
    "# Set up parameters for training\n",
    "batch_size = 30\n",
    "num_classes = 2\n",
    "epochs = 30\n",
    "input_shape = (150, 150, 3)\n",
    "\n",
    "from sklearn.preprocessing import LabelEncoder\n",
    "\n",
    "# Encode text to labels\n",
    "le = LabelEncoder()\n",
    "le.fit(train_labels)\n",
    "train_labels_enc = le.transform(train_labels)\n",
    "validation_labels_enc = le.transform(validation_labels)\n",
    "test_labels_enc = le.transform(test_labels)\n",
    "\n",
    "print (train_labels[0:4], train_labels_enc[0:4])\n",
    "print (train_labels_enc.shape, validation_labels_enc.shape)"
   ]
  },
  {
   "cell_type": "markdown",
   "metadata": {},
   "source": [
    "# get VGG model for transfer learning"
   ]
  },
  {
   "cell_type": "markdown",
   "metadata": {},
   "source": [
    "# feature extraction"
   ]
  },
  {
   "cell_type": "code",
   "execution_count": 7,
   "metadata": {},
   "outputs": [
    {
     "name": "stdout",
     "output_type": "stream",
     "text": [
      "WARNING:tensorflow:From C:\\ProgramData\\Anaconda3\\lib\\site-packages\\tensorflow\\python\\framework\\op_def_library.py:263: colocate_with (from tensorflow.python.framework.ops) is deprecated and will be removed in a future version.\n",
      "Instructions for updating:\n",
      "Colocations handled automatically by placer.\n",
      "<keras.engine.input_layer.InputLayer object at 0x0000000010463710> False\n",
      "<keras.layers.convolutional.Conv2D object at 0x0000000010463780> True\n",
      "<keras.layers.convolutional.Conv2D object at 0x0000000010C3E320> True\n",
      "<keras.layers.pooling.MaxPooling2D object at 0x0000000013BDF630> True\n",
      "<keras.layers.convolutional.Conv2D object at 0x0000000013BDFC18> True\n",
      "<keras.layers.convolutional.Conv2D object at 0x000000001BC4A710> True\n",
      "<keras.layers.pooling.MaxPooling2D object at 0x000000001BC61BE0> True\n",
      "<keras.layers.convolutional.Conv2D object at 0x000000001BC61048> True\n",
      "<keras.layers.convolutional.Conv2D object at 0x000000001BC959B0> True\n",
      "<keras.layers.convolutional.Conv2D object at 0x000000001BCAD278> True\n",
      "<keras.layers.pooling.MaxPooling2D object at 0x000000001BCDBDD8> True\n",
      "<keras.layers.convolutional.Conv2D object at 0x000000001BCDB860> True\n",
      "<keras.layers.convolutional.Conv2D object at 0x000000001BCFAF28> True\n",
      "<keras.layers.convolutional.Conv2D object at 0x000000001BD25780> True\n",
      "<keras.layers.pooling.MaxPooling2D object at 0x000000001BD5B860> True\n",
      "<keras.layers.convolutional.Conv2D object at 0x000000001BD5B9B0> True\n",
      "<keras.layers.convolutional.Conv2D object at 0x000000001BD709E8> True\n",
      "<keras.layers.convolutional.Conv2D object at 0x000000001BDA2B38> True\n",
      "<keras.layers.pooling.MaxPooling2D object at 0x000000001BDBFD68> True\n",
      "<keras.layers.core.Flatten object at 0x000000000B68D518> True\n",
      "_________________________________________________________________\n",
      "Layer (type)                 Output Shape              Param #   \n",
      "=================================================================\n",
      "input_1 (InputLayer)         (None, 150, 150, 3)       0         \n",
      "_________________________________________________________________\n",
      "block1_conv1 (Conv2D)        (None, 150, 150, 64)      1792      \n",
      "_________________________________________________________________\n",
      "block1_conv2 (Conv2D)        (None, 150, 150, 64)      36928     \n",
      "_________________________________________________________________\n",
      "block1_pool (MaxPooling2D)   (None, 75, 75, 64)        0         \n",
      "_________________________________________________________________\n",
      "block2_conv1 (Conv2D)        (None, 75, 75, 128)       73856     \n",
      "_________________________________________________________________\n",
      "block2_conv2 (Conv2D)        (None, 75, 75, 128)       147584    \n",
      "_________________________________________________________________\n",
      "block2_pool (MaxPooling2D)   (None, 37, 37, 128)       0         \n",
      "_________________________________________________________________\n",
      "block3_conv1 (Conv2D)        (None, 37, 37, 256)       295168    \n",
      "_________________________________________________________________\n",
      "block3_conv2 (Conv2D)        (None, 37, 37, 256)       590080    \n",
      "_________________________________________________________________\n",
      "block3_conv3 (Conv2D)        (None, 37, 37, 256)       590080    \n",
      "_________________________________________________________________\n",
      "block3_pool (MaxPooling2D)   (None, 18, 18, 256)       0         \n",
      "_________________________________________________________________\n",
      "block4_conv1 (Conv2D)        (None, 18, 18, 512)       1180160   \n",
      "_________________________________________________________________\n",
      "block4_conv2 (Conv2D)        (None, 18, 18, 512)       2359808   \n",
      "_________________________________________________________________\n",
      "block4_conv3 (Conv2D)        (None, 18, 18, 512)       2359808   \n",
      "_________________________________________________________________\n",
      "block4_pool (MaxPooling2D)   (None, 9, 9, 512)         0         \n",
      "_________________________________________________________________\n",
      "block5_conv1 (Conv2D)        (None, 9, 9, 512)         2359808   \n",
      "_________________________________________________________________\n",
      "block5_conv2 (Conv2D)        (None, 9, 9, 512)         2359808   \n",
      "_________________________________________________________________\n",
      "block5_conv3 (Conv2D)        (None, 9, 9, 512)         2359808   \n",
      "_________________________________________________________________\n",
      "block5_pool (MaxPooling2D)   (None, 4, 4, 512)         0         \n",
      "_________________________________________________________________\n",
      "flatten_1 (Flatten)          (None, 8192)              0         \n",
      "=================================================================\n",
      "Total params: 14,714,688\n",
      "Trainable params: 0\n",
      "Non-trainable params: 14,714,688\n",
      "_________________________________________________________________\n"
     ]
    }
   ],
   "source": [
    "import os\n",
    "import numpy as np\n",
    "from keras.applications.vgg16 import VGG16,preprocess_input,decode_predictions\n",
    "from keras.preprocessing import image\n",
    "from keras.models import Model\n",
    "from keras import layers\n",
    "\n",
    "# Get pretrained model (vgg16) for transfer learning\n",
    "vgg16 = VGG16(include_top=False, weights='imagenet', input_shape=input_shape)\n",
    "\n",
    "# Remove the last layer of the pretrained model\n",
    "output = vgg16.layers[-1].output\n",
    "output = layers.Flatten()(output)\n",
    "\n",
    "# Freeze the model which will be extracted as a feature later\n",
    "vgg16_model = Model(vgg16.input, output)\n",
    "vgg16_model.trainable = False\n",
    "\n",
    "# Confirm the trainable status of each layers\n",
    "for layer in vgg16_model.layers:\n",
    "    print(layer, layer.trainable)\n",
    "\n",
    "# Show a summary of the pretrained model. Check the number of trainable parameters\n",
    "vgg16_model.summary()"
   ]
  },
  {
   "cell_type": "code",
   "execution_count": 8,
   "metadata": {},
   "outputs": [],
   "source": [
    "from keras.applications.imagenet_utils import preprocess_input\n",
    "# Create functions for feature extraction\n",
    "def extract_tl_features(model, base_feature_data):\n",
    "    dataset_tl_features = []\n",
    "    for index, feature_data in enumerate(base_feature_data):\n",
    "        if (index+1) % 1000 == 0:\n",
    "            print('Finished processing', index+1, 'sound feature maps')\n",
    "        pr_data = process_sound_data(feature_data)\n",
    "        tl_features = model.predict(pr_data)\n",
    "        tl_features = np.reshape(tl_features, tl_features.shape[1])\n",
    "        dataset_tl_features.append(tl_features)\n",
    "    return np.array(dataset_tl_features)\n",
    "\n",
    "def process_sound_data(data):\n",
    "    data = np.expand_dims(data, axis=0)\n",
    "    data = preprocess_input(data)\n",
    "    return data"
   ]
  },
  {
   "cell_type": "code",
   "execution_count": 9,
   "metadata": {},
   "outputs": [
    {
     "name": "stdout",
     "output_type": "stream",
     "text": [
      "(150, 150, 150, 3) (150, 8192)\n"
     ]
    }
   ],
   "source": [
    "# Extract features from pretrained model (vgg16)\n",
    "train_vgg16 = extract_tl_features(vgg16_model, train_imgs_scaled)\n",
    "print (train_imgs_scaled.shape, train_vgg16.shape)\n",
    "validatation_vgg16 = extract_tl_features(vgg16_model, validation_imgs_scaled)\n",
    "test_vgg16 = extract_tl_features(vgg16_model, test_imgs_scaled)"
   ]
  },
  {
   "cell_type": "code",
   "execution_count": 10,
   "metadata": {},
   "outputs": [
    {
     "name": "stdout",
     "output_type": "stream",
     "text": [
      "(150, 8192) 8192\n",
      "(150,) 150\n"
     ]
    }
   ],
   "source": [
    "print (train_vgg16.shape, train_vgg16.shape[1])\n",
    "print (train_labels_enc.shape, train_labels_enc.shape[0])"
   ]
  },
  {
   "cell_type": "code",
   "execution_count": 11,
   "metadata": {},
   "outputs": [
    {
     "name": "stdout",
     "output_type": "stream",
     "text": [
      "(150, 2) 150\n"
     ]
    }
   ],
   "source": [
    "from keras.utils import to_categorical\n",
    "\n",
    "# Convert a vector label to matrix label\n",
    "train_labels_ohe = to_categorical(train_labels_enc)\n",
    "validation_labels_ohe = to_categorical(validation_labels_enc)\n",
    "test_labels_ohe = to_categorical(test_labels_enc)\n",
    "print (train_labels_ohe.shape,train_labels_ohe.shape[0])"
   ]
  },
  {
   "cell_type": "code",
   "execution_count": 12,
   "metadata": {},
   "outputs": [
    {
     "name": "stdout",
     "output_type": "stream",
     "text": [
      "_________________________________________________________________\n",
      "Layer (type)                 Output Shape              Param #   \n",
      "=================================================================\n",
      "dense_1 (Dense)              (None, 1024)              8389632   \n",
      "_________________________________________________________________\n",
      "dense_2 (Dense)              (None, 2)                 2050      \n",
      "=================================================================\n",
      "Total params: 8,391,682\n",
      "Trainable params: 8,391,682\n",
      "Non-trainable params: 0\n",
      "_________________________________________________________________\n"
     ]
    }
   ],
   "source": [
    "from keras.models import Sequential\n",
    "from keras import optimizers, losses\n",
    "from keras import layers\n",
    "\n",
    "# Create the model\n",
    "model2 = Sequential()\n",
    "\n",
    "# Add new layers and pre-trained model (vgg16) as an input feature\n",
    "model2.add(layers.Dense(1024, activation='relu', \n",
    "                       input_shape=(train_vgg16.shape[1],)))\n",
    "model2.add(layers.Dense(train_labels_ohe.shape[1], activation='softmax'))\n",
    "\n",
    "# Compile the model\n",
    "model2.compile(loss='categorical_crossentropy', optimizer='adam',                 \n",
    "                      metrics=['accuracy'])\n",
    "\n",
    "# Show a summary of the model. Check the number of trainable parameters\n",
    "model2.summary()"
   ]
  },
  {
   "cell_type": "code",
   "execution_count": 13,
   "metadata": {},
   "outputs": [
    {
     "name": "stdout",
     "output_type": "stream",
     "text": [
      "WARNING:tensorflow:From C:\\ProgramData\\Anaconda3\\lib\\site-packages\\tensorflow\\python\\ops\\math_ops.py:3066: to_int32 (from tensorflow.python.ops.math_ops) is deprecated and will be removed in a future version.\n",
      "Instructions for updating:\n",
      "Use tf.cast instead.\n",
      "Train on 150 samples, validate on 75 samples\n",
      "Epoch 1/30\n",
      "150/150 [==============================] - 2s 14ms/step - loss: 3.8040 - acc: 0.4733 - val_loss: 2.5657 - val_acc: 0.5733\n",
      "Epoch 2/30\n",
      "150/150 [==============================] - 1s 6ms/step - loss: 2.3412 - acc: 0.5200 - val_loss: 0.7923 - val_acc: 0.4267\n",
      "Epoch 3/30\n",
      "150/150 [==============================] - 1s 7ms/step - loss: 2.0327 - acc: 0.4267 - val_loss: 2.1764 - val_acc: 0.4267\n",
      "Epoch 4/30\n",
      "150/150 [==============================] - 1s 6ms/step - loss: 2.1559 - acc: 0.5200 - val_loss: 1.2471 - val_acc: 0.5733\n",
      "Epoch 5/30\n",
      "150/150 [==============================] - 1s 6ms/step - loss: 1.6984 - acc: 0.5000 - val_loss: 1.9007 - val_acc: 0.4267\n",
      "Epoch 6/30\n",
      "150/150 [==============================] - 1s 7ms/step - loss: 1.3008 - acc: 0.5600 - val_loss: 1.4081 - val_acc: 0.5733\n",
      "Epoch 7/30\n",
      "150/150 [==============================] - 1s 7ms/step - loss: 1.1929 - acc: 0.5333 - val_loss: 1.7687 - val_acc: 0.4267\n",
      "Epoch 8/30\n",
      "150/150 [==============================] - 1s 7ms/step - loss: 1.1727 - acc: 0.5200 - val_loss: 0.5332 - val_acc: 0.5733\n",
      "Epoch 9/30\n",
      "150/150 [==============================] - 1s 7ms/step - loss: 0.7316 - acc: 0.5667 - val_loss: 0.5114 - val_acc: 0.5733\n",
      "Epoch 10/30\n",
      "150/150 [==============================] - 1s 6ms/step - loss: 0.6678 - acc: 0.5800 - val_loss: 0.8201 - val_acc: 0.5733\n",
      "Epoch 11/30\n",
      "150/150 [==============================] - 1s 7ms/step - loss: 0.5459 - acc: 0.6667 - val_loss: 0.4738 - val_acc: 0.6400\n",
      "Epoch 12/30\n",
      "150/150 [==============================] - 1s 7ms/step - loss: 0.5140 - acc: 0.6933 - val_loss: 0.4408 - val_acc: 0.8133\n",
      "Epoch 13/30\n",
      "150/150 [==============================] - 1s 6ms/step - loss: 0.4915 - acc: 0.7467 - val_loss: 0.5451 - val_acc: 0.5867\n",
      "Epoch 14/30\n",
      "150/150 [==============================] - 1s 7ms/step - loss: 0.4972 - acc: 0.7333 - val_loss: 0.5784 - val_acc: 0.5733\n",
      "Epoch 15/30\n",
      "150/150 [==============================] - 1s 6ms/step - loss: 0.5296 - acc: 0.6400 - val_loss: 0.3990 - val_acc: 0.8933\n",
      "Epoch 16/30\n",
      "150/150 [==============================] - 1s 7ms/step - loss: 0.5727 - acc: 0.6400 - val_loss: 0.5276 - val_acc: 0.5733\n",
      "Epoch 17/30\n",
      "150/150 [==============================] - 1s 6ms/step - loss: 0.5223 - acc: 0.6800 - val_loss: 0.3811 - val_acc: 0.8933\n",
      "Epoch 18/30\n",
      "150/150 [==============================] - 1s 7ms/step - loss: 0.4965 - acc: 0.7200 - val_loss: 0.5948 - val_acc: 0.5733\n",
      "Epoch 19/30\n",
      "150/150 [==============================] - 1s 6ms/step - loss: 0.4631 - acc: 0.7600 - val_loss: 0.3921 - val_acc: 0.8533\n",
      "Epoch 20/30\n",
      "150/150 [==============================] - 1s 6ms/step - loss: 0.4079 - acc: 0.8533 - val_loss: 0.3567 - val_acc: 0.8933\n",
      "Epoch 21/30\n",
      "150/150 [==============================] - 1s 6ms/step - loss: 0.3834 - acc: 0.8733 - val_loss: 0.4079 - val_acc: 0.7867\n",
      "Epoch 22/30\n",
      "150/150 [==============================] - 1s 7ms/step - loss: 0.4337 - acc: 0.7933 - val_loss: 0.3440 - val_acc: 0.8933\n",
      "Epoch 23/30\n",
      "150/150 [==============================] - 1s 7ms/step - loss: 0.3443 - acc: 0.9200 - val_loss: 0.3362 - val_acc: 0.8933\n",
      "Epoch 24/30\n",
      "150/150 [==============================] - 1s 7ms/step - loss: 0.3462 - acc: 0.9000 - val_loss: 0.3470 - val_acc: 0.8667\n",
      "Epoch 25/30\n",
      "150/150 [==============================] - 1s 6ms/step - loss: 0.3796 - acc: 0.8267 - val_loss: 0.3983 - val_acc: 0.7733\n",
      "Epoch 26/30\n",
      "150/150 [==============================] - 1s 6ms/step - loss: 0.4045 - acc: 0.8000 - val_loss: 0.3476 - val_acc: 0.8800\n",
      "Epoch 27/30\n",
      "150/150 [==============================] - 1s 6ms/step - loss: 0.4048 - acc: 0.8400 - val_loss: 0.3740 - val_acc: 0.8533\n",
      "Epoch 28/30\n",
      "150/150 [==============================] - 1s 7ms/step - loss: 0.4167 - acc: 0.7867 - val_loss: 0.4677 - val_acc: 0.7600\n",
      "Epoch 29/30\n",
      "150/150 [==============================] - 1s 6ms/step - loss: 0.3696 - acc: 0.8867 - val_loss: 0.4254 - val_acc: 0.8000\n",
      "Epoch 30/30\n",
      "150/150 [==============================] - 1s 6ms/step - loss: 0.3261 - acc: 0.8867 - val_loss: 0.3641 - val_acc: 0.8133\n",
      "30.947200059890747\n"
     ]
    }
   ],
   "source": [
    "import time\n",
    "\n",
    "# Train the model\n",
    "start = time.time()\n",
    "vgg16_history = model2.fit(x=train_vgg16, y=train_labels_ohe,\n",
    "                    validation_data=(validatation_vgg16, validation_labels_ohe),\n",
    "                    batch_size=batch_size,\n",
    "                    epochs=epochs,\n",
    "                    verbose=1)\n",
    "end = time.time()\n",
    "print(end - start)"
   ]
  },
  {
   "cell_type": "code",
   "execution_count": 14,
   "metadata": {},
   "outputs": [
    {
     "data": {
      "image/png": "[encoded data removed]",
      "text/plain": [
       "<Figure size 864x288 with 2 Axes>"
      ]
     },
     "metadata": {},
     "output_type": "display_data"
    }
   ],
   "source": [
    "def plot_accuracy(history):\n",
    "    f, (ax1, ax2) = plt.subplots(1, 2, figsize=(12, 4))\n",
    "    t = f.suptitle('Transfer Learning Performance', fontsize=12)\n",
    "    f.subplots_adjust(top=0.85, wspace=0.3)\n",
    "\n",
    "    epoch_lenght = len(history.history['acc'])+1\n",
    "    epoch_list = list(range(1,epoch_lenght))\n",
    "    \n",
    "    # Plot accuracy\n",
    "    ax1.plot(epoch_list, history.history['acc'], label='Train Accuracy')\n",
    "    ax1.plot(epoch_list, history.history['val_acc'], label='Validation Accuracy')\n",
    "    ax1.set_xticks(np.arange(0, epoch_lenght, 5))\n",
    "    ax1.set_ylabel('Accuracy Value')\n",
    "    ax1.set_xlabel('Epoch')\n",
    "    ax1.set_title('Accuracy')\n",
    "    l1 = ax1.legend(loc=\"best\")\n",
    "\n",
    "    # Plot loss\n",
    "    ax2.plot(epoch_list, history.history['loss'], label='Train Loss')\n",
    "    ax2.plot(epoch_list, history.history['val_loss'], label='Validation Loss')\n",
    "    ax2.set_xticks(np.arange(0, epoch_lenght, 5))\n",
    "    ax2.set_ylabel('Loss Value')\n",
    "    ax2.set_xlabel('Epoch')\n",
    "    ax2.set_title('Loss')\n",
    "    l2 = ax2.legend(loc=\"best\")\n",
    "plot_accuracy(vgg16_history)"
   ]
  },
  {
   "cell_type": "markdown",
   "metadata": {},
   "source": [
    "# Fine tuning"
   ]
  },
  {
   "cell_type": "code",
   "execution_count": 15,
   "metadata": {},
   "outputs": [
    {
     "name": "stdout",
     "output_type": "stream",
     "text": [
      "<keras.engine.input_layer.InputLayer object at 0x000000001E3AE828> False\n",
      "<keras.layers.convolutional.Conv2D object at 0x000000001E3AEF60> False\n",
      "<keras.layers.convolutional.Conv2D object at 0x000000001DC3AEB8> False\n",
      "<keras.layers.pooling.MaxPooling2D object at 0x000000001E3E3B70> False\n",
      "<keras.layers.convolutional.Conv2D object at 0x000000001E3E3C88> False\n",
      "<keras.layers.convolutional.Conv2D object at 0x000000001E3F7D30> False\n",
      "<keras.layers.pooling.MaxPooling2D object at 0x000000001E42CD68> False\n",
      "<keras.layers.convolutional.Conv2D object at 0x000000001E42CE48> False\n",
      "<keras.layers.convolutional.Conv2D object at 0x000000001E4472E8> False\n",
      "<keras.layers.convolutional.Conv2D object at 0x000000001E472DD8> False\n",
      "<keras.layers.pooling.MaxPooling2D object at 0x000000001E48EF28> False\n",
      "<keras.layers.convolutional.Conv2D object at 0x000000001E48E0B8> False\n",
      "<keras.layers.convolutional.Conv2D object at 0x000000001E4C5C50> False\n",
      "<keras.layers.convolutional.Conv2D object at 0x000000001E4F9B38> False\n",
      "<keras.layers.pooling.MaxPooling2D object at 0x000000001E510C50> False\n",
      "<keras.layers.convolutional.Conv2D object at 0x000000001E510A90> True\n",
      "<keras.layers.convolutional.Conv2D object at 0x000000002A4EAA20> True\n",
      "<keras.layers.convolutional.Conv2D object at 0x000000002A4FEE80> True\n",
      "<keras.layers.pooling.MaxPooling2D object at 0x000000002A52FE10> True\n",
      "_________________________________________________________________\n",
      "Layer (type)                 Output Shape              Param #   \n",
      "=================================================================\n",
      "input_2 (InputLayer)         (None, 150, 150, 3)       0         \n",
      "_________________________________________________________________\n",
      "block1_conv1 (Conv2D)        (None, 150, 150, 64)      1792      \n",
      "_________________________________________________________________\n",
      "block1_conv2 (Conv2D)        (None, 150, 150, 64)      36928     \n",
      "_________________________________________________________________\n",
      "block1_pool (MaxPooling2D)   (None, 75, 75, 64)        0         \n",
      "_________________________________________________________________\n",
      "block2_conv1 (Conv2D)        (None, 75, 75, 128)       73856     \n",
      "_________________________________________________________________\n",
      "block2_conv2 (Conv2D)        (None, 75, 75, 128)       147584    \n",
      "_________________________________________________________________\n",
      "block2_pool (MaxPooling2D)   (None, 37, 37, 128)       0         \n",
      "_________________________________________________________________\n",
      "block3_conv1 (Conv2D)        (None, 37, 37, 256)       295168    \n",
      "_________________________________________________________________\n",
      "block3_conv2 (Conv2D)        (None, 37, 37, 256)       590080    \n",
      "_________________________________________________________________\n",
      "block3_conv3 (Conv2D)        (None, 37, 37, 256)       590080    \n",
      "_________________________________________________________________\n",
      "block3_pool (MaxPooling2D)   (None, 18, 18, 256)       0         \n",
      "_________________________________________________________________\n",
      "block4_conv1 (Conv2D)        (None, 18, 18, 512)       1180160   \n",
      "_________________________________________________________________\n",
      "block4_conv2 (Conv2D)        (None, 18, 18, 512)       2359808   \n",
      "_________________________________________________________________\n",
      "block4_conv3 (Conv2D)        (None, 18, 18, 512)       2359808   \n",
      "_________________________________________________________________\n",
      "block4_pool (MaxPooling2D)   (None, 9, 9, 512)         0         \n",
      "_________________________________________________________________\n",
      "block5_conv1 (Conv2D)        (None, 9, 9, 512)         2359808   \n",
      "_________________________________________________________________\n",
      "block5_conv2 (Conv2D)        (None, 9, 9, 512)         2359808   \n",
      "_________________________________________________________________\n",
      "block5_conv3 (Conv2D)        (None, 9, 9, 512)         2359808   \n",
      "_________________________________________________________________\n",
      "block5_pool (MaxPooling2D)   (None, 4, 4, 512)         0         \n",
      "=================================================================\n",
      "Total params: 14,714,688\n",
      "Trainable params: 7,079,424\n",
      "Non-trainable params: 7,635,264\n",
      "_________________________________________________________________\n"
     ]
    }
   ],
   "source": [
    "# Get the pretrained model (vgg16)\n",
    "vgg16_model2 = VGG16(include_top=False, weights='imagenet', input_shape=input_shape)\n",
    "\n",
    "# Freeze the layers except the last 4 layers\n",
    "for layer in vgg16_model2.layers[:-4]:\n",
    "    layer.trainable = False\n",
    "\n",
    "# Check the trainable status of the individual layers\n",
    "for layer in vgg16_model2.layers:\n",
    "    print(layer, layer.trainable)\n",
    "    \n",
    "vgg16_model2.summary()"
   ]
  },
  {
   "cell_type": "code",
   "execution_count": 16,
   "metadata": {},
   "outputs": [
    {
     "name": "stdout",
     "output_type": "stream",
     "text": [
      "_________________________________________________________________\n",
      "Layer (type)                 Output Shape              Param #   \n",
      "=================================================================\n",
      "vgg16 (Model)                (None, 4, 4, 512)         14714688  \n",
      "_________________________________________________________________\n",
      "flatten_2 (Flatten)          (None, 8192)              0         \n",
      "_________________________________________________________________\n",
      "dense_3 (Dense)              (None, 1024)              8389632   \n",
      "_________________________________________________________________\n",
      "dense_4 (Dense)              (None, 2)                 2050      \n",
      "=================================================================\n",
      "Total params: 23,106,370\n",
      "Trainable params: 15,471,106\n",
      "Non-trainable params: 7,635,264\n",
      "_________________________________________________________________\n"
     ]
    }
   ],
   "source": [
    "# Create the model\n",
    "model3 = Sequential()\n",
    " \n",
    "# Add the vgg convolutional base model\n",
    "model3.add(vgg16_model2)\n",
    " \n",
    "# Add new layers\n",
    "model3.add(layers.Flatten())\n",
    "model3.add(layers.Dense(1024, activation='relu'))\n",
    "model3.add(layers.Dense(train_labels_ohe.shape[1], activation='softmax'))\n",
    "model3.compile(loss='categorical_crossentropy', optimizer='adam',                 \n",
    "                      metrics=['accuracy'])\n",
    "\n",
    "# Show a summary of the model. Check the number of trainable parameters\n",
    "model3.summary()"
   ]
  },
  {
   "cell_type": "code",
   "execution_count": 17,
   "metadata": {},
   "outputs": [
    {
     "name": "stdout",
     "output_type": "stream",
     "text": [
      "Train on 150 samples, validate on 75 samples\n",
      "Epoch 1/30\n",
      "150/150 [==============================] - 163s 1s/step - loss: 7.1758 - acc: 0.5067 - val_loss: 6.8771 - val_acc: 0.5733\n",
      "Epoch 2/30\n",
      "150/150 [==============================] - 161s 1s/step - loss: 8.3814 - acc: 0.4800 - val_loss: 6.8771 - val_acc: 0.5733\n",
      "Epoch 3/30\n",
      "150/150 [==============================] - 162s 1s/step - loss: 8.3814 - acc: 0.4800 - val_loss: 6.8771 - val_acc: 0.5733\n",
      "Epoch 4/30\n",
      "150/150 [==============================] - 161s 1s/step - loss: 8.3814 - acc: 0.4800 - val_loss: 6.8771 - val_acc: 0.5733\n",
      "Epoch 5/30\n",
      "150/150 [==============================] - 161s 1s/step - loss: 8.3814 - acc: 0.4800 - val_loss: 6.8771 - val_acc: 0.5733\n",
      "Epoch 6/30\n",
      "150/150 [==============================] - 162s 1s/step - loss: 8.3814 - acc: 0.4800 - val_loss: 6.8771 - val_acc: 0.5733\n",
      "Epoch 7/30\n",
      "150/150 [==============================] - 161s 1s/step - loss: 8.3814 - acc: 0.4800 - val_loss: 6.8771 - val_acc: 0.5733\n",
      "Epoch 8/30\n",
      "150/150 [==============================] - 161s 1s/step - loss: 8.3814 - acc: 0.4800 - val_loss: 6.8771 - val_acc: 0.5733\n",
      "Epoch 9/30\n",
      "150/150 [==============================] - 161s 1s/step - loss: 8.3814 - acc: 0.4800 - val_loss: 6.8771 - val_acc: 0.5733\n",
      "Epoch 10/30\n",
      "150/150 [==============================] - 161s 1s/step - loss: 8.3814 - acc: 0.4800 - val_loss: 6.8771 - val_acc: 0.5733\n",
      "Epoch 11/30\n",
      "150/150 [==============================] - 161s 1s/step - loss: 8.3814 - acc: 0.4800 - val_loss: 6.8771 - val_acc: 0.5733\n",
      "Epoch 12/30\n",
      "150/150 [==============================] - 161s 1s/step - loss: 8.3814 - acc: 0.4800 - val_loss: 6.8771 - val_acc: 0.5733\n",
      "Epoch 13/30\n",
      "150/150 [==============================] - 161s 1s/step - loss: 8.3814 - acc: 0.4800 - val_loss: 6.8771 - val_acc: 0.5733\n",
      "Epoch 14/30\n",
      "150/150 [==============================] - 161s 1s/step - loss: 8.3814 - acc: 0.4800 - val_loss: 6.8771 - val_acc: 0.5733\n",
      "Epoch 15/30\n",
      "150/150 [==============================] - 162s 1s/step - loss: 8.3814 - acc: 0.4800 - val_loss: 6.8771 - val_acc: 0.5733\n",
      "Epoch 16/30\n",
      "150/150 [==============================] - 161s 1s/step - loss: 8.3814 - acc: 0.4800 - val_loss: 6.8771 - val_acc: 0.5733\n",
      "Epoch 17/30\n",
      "150/150 [==============================] - 161s 1s/step - loss: 8.3814 - acc: 0.4800 - val_loss: 6.8771 - val_acc: 0.5733\n",
      "Epoch 18/30\n",
      "150/150 [==============================] - 162s 1s/step - loss: 8.3814 - acc: 0.4800 - val_loss: 6.8771 - val_acc: 0.5733\n",
      "Epoch 19/30\n",
      "150/150 [==============================] - 161s 1s/step - loss: 8.3814 - acc: 0.4800 - val_loss: 6.8771 - val_acc: 0.5733\n",
      "Epoch 20/30\n",
      "150/150 [==============================] - 161s 1s/step - loss: 8.3814 - acc: 0.4800 - val_loss: 6.8771 - val_acc: 0.5733\n",
      "Epoch 21/30\n",
      "150/150 [==============================] - 161s 1s/step - loss: 8.3814 - acc: 0.4800 - val_loss: 6.8771 - val_acc: 0.5733\n",
      "Epoch 22/30\n",
      "150/150 [==============================] - 162s 1s/step - loss: 8.3814 - acc: 0.4800 - val_loss: 6.8771 - val_acc: 0.5733\n",
      "Epoch 23/30\n",
      "150/150 [==============================] - 162s 1s/step - loss: 8.3814 - acc: 0.4800 - val_loss: 6.8771 - val_acc: 0.5733\n",
      "Epoch 24/30\n",
      "150/150 [==============================] - 161s 1s/step - loss: 8.3814 - acc: 0.4800 - val_loss: 6.8771 - val_acc: 0.5733\n",
      "Epoch 25/30\n",
      "150/150 [==============================] - 161s 1s/step - loss: 8.3814 - acc: 0.4800 - val_loss: 6.8771 - val_acc: 0.5733\n",
      "Epoch 26/30\n",
      "150/150 [==============================] - 161s 1s/step - loss: 8.3814 - acc: 0.4800 - val_loss: 6.8771 - val_acc: 0.5733\n",
      "Epoch 27/30\n",
      "150/150 [==============================] - 161s 1s/step - loss: 8.3814 - acc: 0.4800 - val_loss: 6.8771 - val_acc: 0.5733\n",
      "Epoch 28/30\n",
      "150/150 [==============================] - 161s 1s/step - loss: 8.3814 - acc: 0.4800 - val_loss: 6.8771 - val_acc: 0.5733\n",
      "Epoch 29/30\n",
      "150/150 [==============================] - 161s 1s/step - loss: 8.3814 - acc: 0.4800 - val_loss: 6.8771 - val_acc: 0.5733\n",
      "Epoch 30/30\n",
      "150/150 [==============================] - 161s 1s/step - loss: 8.3814 - acc: 0.4800 - val_loss: 6.8771 - val_acc: 0.5733\n",
      "4840.367800712585\n"
     ]
    }
   ],
   "source": [
    "# Train the model\n",
    "start = time.time()\n",
    "vgg16_history3 = model3.fit(x=train_imgs_scaled, y=train_labels_ohe,\n",
    "                    validation_data=(validation_imgs_scaled, validation_labels_ohe),\n",
    "                    batch_size=batch_size,\n",
    "                    epochs=epochs,\n",
    "                    verbose=1)\n",
    "end = time.time()\n",
    "print(end - start)"
   ]
  },
  {
   "cell_type": "code",
   "execution_count": 18,
   "metadata": {},
   "outputs": [
    {
     "data": {
      "image/png": "[encoded data removed]",
      "text/plain": [
       "<Figure size 864x288 with 2 Axes>"
      ]
     },
     "metadata": {},
     "output_type": "display_data"
    }
   ],
   "source": [
    "# plot accuracy and loss\n",
    "plot_accuracy(vgg16_history3)"
   ]
  },
  {
   "cell_type": "markdown",
   "metadata": {},
   "source": [
    "# Prediction"
   ]
  },
  {
   "cell_type": "code",
   "execution_count": 19,
   "metadata": {},
   "outputs": [],
   "source": [
    "from sklearn import metrics\n",
    "def get_metrics(true_labels, predicted_labels):    \n",
    "    print('Accuracy:', metrics.accuracy_score(true_labels, predicted_labels))\n",
    "    print('Precision:', metrics.precision_score(true_labels, predicted_labels, average='weighted'))\n",
    "    print('Recall:', metrics.recall_score(true_labels, predicted_labels, average='weighted'))\n",
    "    print('F1 Score:', metrics.f1_score(true_labels, predicted_labels,average='weighted'))"
   ]
  },
  {
   "cell_type": "markdown",
   "metadata": {},
   "source": [
    "transfer learning (feature extraction)"
   ]
  },
  {
   "cell_type": "code",
   "execution_count": 20,
   "metadata": {},
   "outputs": [
    {
     "name": "stdout",
     "output_type": "stream",
     "text": [
      "[1 0 1 0 0 1 1 0 0 0 0 0 0 1 1 0 0 1 1 1 1 0 0 1 0 1 1 0 0 0 0 0 0 0 1 0 0\n",
      " 1 0 0 1 0 0 0 1 1 0 1 1 0 1 1 0 0 0 1 1 0 0 1 0 0 0 1 0 0 0 1 0 0 1 0 1 0\n",
      " 0]\n",
      "[0 0 0 0 0 0 0 0 0 0 0 0 0 0 0 0 0 0 0 0 0 0 0 0 0 0 0 0 0 0 0 0 0 0 0 0 0\n",
      " 0 0 0 0 0 0 0 0 0 0 0 0 0 0 0 0 0 0 0 0 0 0 0 0 0 0 0 0 0 0 0 0 0 0 0 0 0\n",
      " 0]\n",
      "[1 0 1 0 0 1 1 0 0 0 0 1 0 1 1 0 1 1 1 1 1 0 1 1 0 1 1 0 0 0 1 1 0 0 1 0 0\n",
      " 1 1 0 1 0 0 1 1 1 0 1 1 0 1 1 0 1 1 1 1 0 0 1 1 0 0 1 0 0 0 1 1 0 1 0 1 0\n",
      " 0]\n"
     ]
    }
   ],
   "source": [
    "# Predict test data\n",
    "predictions = model2.predict_classes(test_vgg16)\n",
    "predictions3 = model3.predict_classes(test_imgs_scaled)\n",
    "print (predictions)\n",
    "print (predictions3)\n",
    "print (test_labels_enc)"
   ]
  },
  {
   "cell_type": "code",
   "execution_count": 21,
   "metadata": {},
   "outputs": [],
   "source": [
    "class_map = {'0': 'pond', '1':'waterfall'}\n",
    "test_predict_labels = [class_map[str(label)] for label in predictions]\n",
    "test_predict_labels3 = [class_map[str(label)] for label in predictions3]\n",
    "test_actual_labels = [class_map[str(label)] for label in test_labels_enc]"
   ]
  },
  {
   "cell_type": "code",
   "execution_count": 22,
   "metadata": {},
   "outputs": [
    {
     "name": "stdout",
     "output_type": "stream",
     "text": [
      "Accuracy: 0.8533333333333334\n",
      "Precision: 0.8884057971014494\n",
      "Recall: 0.8533333333333334\n",
      "F1 Score: 0.8516013598139203\n"
     ]
    }
   ],
   "source": [
    "get_metrics(true_labels=test_actual_labels,predicted_labels=test_predict_labels)"
   ]
  },
  {
   "cell_type": "code",
   "execution_count": 23,
   "metadata": {},
   "outputs": [
    {
     "data": {
      "text/html": [
       "<div>\n",
       "<style scoped>\n",
       "    .dataframe tbody tr th:only-of-type {\n",
       "        vertical-align: middle;\n",
       "    }\n",
       "\n",
       "    .dataframe tbody tr th {\n",
       "        vertical-align: top;\n",
       "    }\n",
       "\n",
       "    .dataframe thead th {\n",
       "        text-align: right;\n",
       "    }\n",
       "</style>\n",
       "<table border=\"1\" class=\"dataframe\">\n",
       "  <thead>\n",
       "    <tr style=\"text-align: right;\">\n",
       "      <th></th>\n",
       "      <th>pond</th>\n",
       "      <th>waterfall</th>\n",
       "    </tr>\n",
       "  </thead>\n",
       "  <tbody>\n",
       "    <tr>\n",
       "      <th>pond</th>\n",
       "      <td>35</td>\n",
       "      <td>0</td>\n",
       "    </tr>\n",
       "    <tr>\n",
       "      <th>waterfall</th>\n",
       "      <td>11</td>\n",
       "      <td>29</td>\n",
       "    </tr>\n",
       "  </tbody>\n",
       "</table>\n",
       "</div>"
      ],
      "text/plain": [
       "           pond  waterfall\n",
       "pond         35          0\n",
       "waterfall    11         29"
      ]
     },
     "execution_count": 23,
     "metadata": {},
     "output_type": "execute_result"
    }
   ],
   "source": [
    "import pandas as pd\n",
    "\n",
    "# Show confusion matrix\n",
    "labels = ['pond', 'waterfall']\n",
    "cm = metrics.confusion_matrix(y_true=test_actual_labels, y_pred=test_predict_labels)\n",
    "cm_labeled = pd.DataFrame(cm, columns=labels, index=labels)\n",
    "cm_labeled"
   ]
  },
  {
   "cell_type": "markdown",
   "metadata": {},
   "source": [
    "transfer learning (fine tuning)"
   ]
  },
  {
   "cell_type": "code",
   "execution_count": 24,
   "metadata": {},
   "outputs": [
    {
     "name": "stdout",
     "output_type": "stream",
     "text": [
      "Accuracy: 0.4666666666666667\n",
      "Precision: 0.21777777777777776\n",
      "Recall: 0.4666666666666667\n",
      "F1 Score: 0.296969696969697\n"
     ]
    },
    {
     "name": "stderr",
     "output_type": "stream",
     "text": [
      "C:\\ProgramData\\Anaconda3\\lib\\site-packages\\sklearn\\metrics\\classification.py:1135: UndefinedMetricWarning: Precision is ill-defined and being set to 0.0 in labels with no predicted samples.\n",
      "  'precision', 'predicted', average, warn_for)\n",
      "C:\\ProgramData\\Anaconda3\\lib\\site-packages\\sklearn\\metrics\\classification.py:1135: UndefinedMetricWarning: F-score is ill-defined and being set to 0.0 in labels with no predicted samples.\n",
      "  'precision', 'predicted', average, warn_for)\n"
     ]
    }
   ],
   "source": [
    "get_metrics(true_labels=test_actual_labels,predicted_labels=test_predict_labels3)"
   ]
  },
  {
   "cell_type": "code",
   "execution_count": 25,
   "metadata": {},
   "outputs": [
    {
     "data": {
      "text/html": [
       "<div>\n",
       "<style scoped>\n",
       "    .dataframe tbody tr th:only-of-type {\n",
       "        vertical-align: middle;\n",
       "    }\n",
       "\n",
       "    .dataframe tbody tr th {\n",
       "        vertical-align: top;\n",
       "    }\n",
       "\n",
       "    .dataframe thead th {\n",
       "        text-align: right;\n",
       "    }\n",
       "</style>\n",
       "<table border=\"1\" class=\"dataframe\">\n",
       "  <thead>\n",
       "    <tr style=\"text-align: right;\">\n",
       "      <th></th>\n",
       "      <th>pond</th>\n",
       "      <th>waterfall</th>\n",
       "    </tr>\n",
       "  </thead>\n",
       "  <tbody>\n",
       "    <tr>\n",
       "      <th>pond</th>\n",
       "      <td>35</td>\n",
       "      <td>0</td>\n",
       "    </tr>\n",
       "    <tr>\n",
       "      <th>waterfall</th>\n",
       "      <td>40</td>\n",
       "      <td>0</td>\n",
       "    </tr>\n",
       "  </tbody>\n",
       "</table>\n",
       "</div>"
      ],
      "text/plain": [
       "           pond  waterfall\n",
       "pond         35          0\n",
       "waterfall    40          0"
      ]
     },
     "execution_count": 25,
     "metadata": {},
     "output_type": "execute_result"
    }
   ],
   "source": [
    "# Show confusion matrix\n",
    "cm = metrics.confusion_matrix(y_true=test_actual_labels, y_pred=test_predict_labels3)\n",
    "cm_labeled = pd.DataFrame(cm, columns=labels, index=labels)\n",
    "cm_labeled"
   ]
  },
  {
   "cell_type": "code",
   "execution_count": null,
   "metadata": {},
   "outputs": [],
   "source": []
  }
 ],
 "metadata": {
  "kernelspec": {
   "display_name": "Python 3",
   "language": "python",
   "name": "python3"
  },
  "language_info": {
   "codemirror_mode": {
    "name": "ipython",
    "version": 3
   },
   "file_extension": ".py",
   "mimetype": "text/x-python",
   "name": "python",
   "nbconvert_exporter": "python",
   "pygments_lexer": "ipython3",
   "version": "3.6.5"
  }
 },
 "nbformat": 4,
 "nbformat_minor": 2
}
