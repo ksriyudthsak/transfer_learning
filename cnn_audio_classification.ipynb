{
 "cells": [
  {
   "cell_type": "markdown",
   "metadata": {},
   "source": [
    "# build a CNN model"
   ]
  },
  {
   "cell_type": "code",
   "execution_count": 1,
   "metadata": {},
   "outputs": [
    {
     "name": "stderr",
     "output_type": "stream",
     "text": [
      "C:\\ProgramData\\Anaconda3\\lib\\site-packages\\h5py\\__init__.py:36: FutureWarning: Conversion of the second argument of issubdtype from `float` to `np.floating` is deprecated. In future, it will be treated as `np.float64 == np.dtype(float).type`.\n",
      "  from ._conv import register_converters as _register_converters\n",
      "Using TensorFlow backend.\n"
     ]
    }
   ],
   "source": [
    "import glob\n",
    "import numpy as np\n",
    "import matplotlib.pyplot as plt\n",
    "from keras.preprocessing.image import ImageDataGenerator, load_img, img_to_array, array_to_img\n",
    "%matplotlib inline"
   ]
  },
  {
   "cell_type": "code",
   "execution_count": 2,
   "metadata": {},
   "outputs": [
    {
     "name": "stdout",
     "output_type": "stream",
     "text": [
      "Train dataset shape: (150, 150, 150, 3) \n",
      "Validation dataset shape: (75, 150, 150, 3)\n"
     ]
    }
   ],
   "source": [
    "from sklearn.model_selection import train_test_split\n",
    "\n",
    "IMG_DIM = (150, 150)\n",
    "\n",
    "# load image and covert to numpy array\n",
    "all_files = glob.glob('fig_wave/*')\n",
    "# all_files = glob.glob('fig_specgram/*')\n",
    "all_imgs = [img_to_array(load_img(img, target_size=IMG_DIM)) for img in all_files]\n",
    "all_imgs = np.array(all_imgs)\n",
    "all_labels = [fn.split('\\\\')[1].split('.')[0].split('_')[0].strip() for fn in all_files]\n",
    "\n",
    "# seperate train and validation dataset\n",
    "# train_imgs, validation_imgs, train_labels, validation_labels = train_test_split(all_imgs, all_labels, test_size=0.33, random_state=42)\n",
    "train_imgs, not_train_imgs, train_labels, not_train_labels = train_test_split(all_imgs, all_labels, test_size=0.5, random_state=42)\n",
    "validation_imgs, test_imgs, validation_labels, test_labels = train_test_split(not_train_imgs, not_train_labels, test_size=0.5, random_state=42)\n",
    "\n",
    "print('Train dataset shape:', train_imgs.shape, \n",
    "      '\\nValidation dataset shape:', validation_imgs.shape)"
   ]
  },
  {
   "cell_type": "code",
   "execution_count": 3,
   "metadata": {},
   "outputs": [],
   "source": [
    "train_imgs_scaled = train_imgs.astype('float32')\n",
    "validation_imgs_scaled  = validation_imgs.astype('float32')\n",
    "test_imgs_scaled = test_imgs.astype('float32')\n",
    "train_imgs_scaled /= 255\n",
    "validation_imgs_scaled /= 255\n",
    "test_imgs_scaled /= 255"
   ]
  },
  {
   "cell_type": "code",
   "execution_count": 4,
   "metadata": {},
   "outputs": [
    {
     "name": "stdout",
     "output_type": "stream",
     "text": [
      "['waterfall', 'pond', 'waterfall', 'waterfall'] [1 0 1 1]\n",
      "(150,) (75,)\n"
     ]
    }
   ],
   "source": [
    "batch_size = 30\n",
    "num_classes = 2\n",
    "epochs = 30\n",
    "input_shape = (150, 150, 3)\n",
    "\n",
    "from sklearn.preprocessing import LabelEncoder\n",
    "\n",
    "# encode text to labels\n",
    "le = LabelEncoder()\n",
    "le.fit(train_labels)\n",
    "train_labels_enc = le.transform(train_labels)\n",
    "validation_labels_enc = le.transform(validation_labels)\n",
    "test_labels_enc = le.transform(test_labels)\n",
    "\n",
    "print (train_labels[0:4], train_labels_enc[0:4])\n",
    "print (train_labels_enc.shape, validation_labels_enc.shape)"
   ]
  },
  {
   "cell_type": "code",
   "execution_count": 5,
   "metadata": {},
   "outputs": [
    {
     "name": "stdout",
     "output_type": "stream",
     "text": [
      "WARNING:tensorflow:From C:\\ProgramData\\Anaconda3\\lib\\site-packages\\tensorflow\\python\\framework\\op_def_library.py:263: colocate_with (from tensorflow.python.framework.ops) is deprecated and will be removed in a future version.\n",
      "Instructions for updating:\n",
      "Colocations handled automatically by placer.\n",
      "_________________________________________________________________\n",
      "Layer (type)                 Output Shape              Param #   \n",
      "=================================================================\n",
      "conv2d_1 (Conv2D)            (None, 148, 148, 16)      448       \n",
      "_________________________________________________________________\n",
      "max_pooling2d_1 (MaxPooling2 (None, 74, 74, 16)        0         \n",
      "_________________________________________________________________\n",
      "conv2d_2 (Conv2D)            (None, 72, 72, 64)        9280      \n",
      "_________________________________________________________________\n",
      "max_pooling2d_2 (MaxPooling2 (None, 36, 36, 64)        0         \n",
      "_________________________________________________________________\n",
      "conv2d_3 (Conv2D)            (None, 34, 34, 128)       73856     \n",
      "_________________________________________________________________\n",
      "max_pooling2d_3 (MaxPooling2 (None, 17, 17, 128)       0         \n",
      "_________________________________________________________________\n",
      "flatten_1 (Flatten)          (None, 36992)             0         \n",
      "_________________________________________________________________\n",
      "dense_1 (Dense)              (None, 512)               18940416  \n",
      "_________________________________________________________________\n",
      "dense_2 (Dense)              (None, 1)                 513       \n",
      "=================================================================\n",
      "Total params: 19,024,513\n",
      "Trainable params: 19,024,513\n",
      "Non-trainable params: 0\n",
      "_________________________________________________________________\n"
     ]
    }
   ],
   "source": [
    "from keras.layers import Conv2D, MaxPooling2D, Flatten, Dense, Dropout\n",
    "from keras.models import Sequential\n",
    "from keras import optimizers, losses\n",
    "\n",
    "model = Sequential()\n",
    "\n",
    "model.add(Conv2D(16, kernel_size=(3, 3), activation='relu', \n",
    "                 input_shape=input_shape))\n",
    "model.add(MaxPooling2D(pool_size=(2, 2)))\n",
    "\n",
    "model.add(Conv2D(64, kernel_size=(3, 3), activation='relu'))\n",
    "model.add(MaxPooling2D(pool_size=(2, 2)))\n",
    "\n",
    "model.add(Conv2D(128, kernel_size=(3, 3), activation='relu'))\n",
    "model.add(MaxPooling2D(pool_size=(2, 2)))\n",
    "\n",
    "model.add(Flatten())\n",
    "model.add(Dense(512, activation='relu'))\n",
    "model.add(Dense(1, activation='sigmoid'))\n",
    "\n",
    "model.compile(loss=losses.binary_crossentropy, \n",
    "              optimizer=optimizers.adam(), metrics=['accuracy'])\n",
    "model.summary()"
   ]
  },
  {
   "cell_type": "code",
   "execution_count": 13,
   "metadata": {},
   "outputs": [
    {
     "name": "stdout",
     "output_type": "stream",
     "text": [
      "Train on 150 samples, validate on 75 samples\n",
      "Epoch 1/30\n",
      "150/150 [==============================] - 9s 59ms/step - loss: 2.8124e-05 - acc: 1.0000 - val_loss: 2.2166e-04 - val_acc: 1.0000\n",
      "Epoch 2/30\n",
      "150/150 [==============================] - 9s 57ms/step - loss: 2.7090e-05 - acc: 1.0000 - val_loss: 2.1558e-04 - val_acc: 1.0000\n",
      "Epoch 3/30\n",
      "150/150 [==============================] - 9s 57ms/step - loss: 2.6228e-05 - acc: 1.0000 - val_loss: 2.0957e-04 - val_acc: 1.0000\n",
      "Epoch 4/30\n",
      "150/150 [==============================] - 9s 57ms/step - loss: 2.5694e-05 - acc: 1.0000 - val_loss: 2.0616e-04 - val_acc: 1.0000\n",
      "Epoch 5/30\n",
      "150/150 [==============================] - 9s 57ms/step - loss: 2.4439e-05 - acc: 1.0000 - val_loss: 1.9937e-04 - val_acc: 1.0000\n",
      "Epoch 6/30\n",
      "150/150 [==============================] - 9s 58ms/step - loss: 2.3619e-05 - acc: 1.0000 - val_loss: 1.9364e-04 - val_acc: 1.0000\n",
      "Epoch 7/30\n",
      "150/150 [==============================] - 9s 59ms/step - loss: 2.2982e-05 - acc: 1.0000 - val_loss: 1.8852e-04 - val_acc: 1.0000\n",
      "Epoch 8/30\n",
      "150/150 [==============================] - 9s 59ms/step - loss: 2.1927e-05 - acc: 1.0000 - val_loss: 1.8210e-04 - val_acc: 1.0000\n",
      "Epoch 9/30\n",
      "150/150 [==============================] - 9s 60ms/step - loss: 2.1239e-05 - acc: 1.0000 - val_loss: 1.7690e-04 - val_acc: 1.0000\n",
      "Epoch 10/30\n",
      "150/150 [==============================] - 9s 59ms/step - loss: 2.0326e-05 - acc: 1.0000 - val_loss: 1.7230e-04 - val_acc: 1.0000\n",
      "Epoch 11/30\n",
      "150/150 [==============================] - 9s 61ms/step - loss: 1.9669e-05 - acc: 1.0000 - val_loss: 1.6840e-04 - val_acc: 1.0000\n",
      "Epoch 12/30\n",
      "150/150 [==============================] - 9s 60ms/step - loss: 1.8782e-05 - acc: 1.0000 - val_loss: 1.6299e-04 - val_acc: 1.0000\n",
      "Epoch 13/30\n",
      "150/150 [==============================] - 9s 60ms/step - loss: 1.8301e-05 - acc: 1.0000 - val_loss: 1.5696e-04 - val_acc: 1.0000\n",
      "Epoch 14/30\n",
      "150/150 [==============================] - 9s 61ms/step - loss: 1.7433e-05 - acc: 1.0000 - val_loss: 1.5218e-04 - val_acc: 1.0000\n",
      "Epoch 15/30\n",
      "150/150 [==============================] - 9s 61ms/step - loss: 1.6980e-05 - acc: 1.0000 - val_loss: 1.4732e-04 - val_acc: 1.0000\n",
      "Epoch 16/30\n",
      "150/150 [==============================] - 9s 61ms/step - loss: 1.6180e-05 - acc: 1.0000 - val_loss: 1.4410e-04 - val_acc: 1.0000\n",
      "Epoch 17/30\n",
      "150/150 [==============================] - 9s 59ms/step - loss: 1.5579e-05 - acc: 1.0000 - val_loss: 1.4029e-04 - val_acc: 1.0000\n",
      "Epoch 18/30\n",
      "150/150 [==============================] - 9s 60ms/step - loss: 1.5027e-05 - acc: 1.0000 - val_loss: 1.3504e-04 - val_acc: 1.0000\n",
      "Epoch 19/30\n",
      "150/150 [==============================] - 9s 60ms/step - loss: 1.4516e-05 - acc: 1.0000 - val_loss: 1.3597e-04 - val_acc: 1.0000\n",
      "Epoch 20/30\n",
      "150/150 [==============================] - 9s 59ms/step - loss: 1.3822e-05 - acc: 1.0000 - val_loss: 1.3167e-04 - val_acc: 1.0000\n",
      "Epoch 21/30\n",
      "150/150 [==============================] - 9s 60ms/step - loss: 1.2989e-05 - acc: 1.0000 - val_loss: 1.2441e-04 - val_acc: 1.0000\n",
      "Epoch 22/30\n",
      "150/150 [==============================] - 9s 60ms/step - loss: 1.2480e-05 - acc: 1.0000 - val_loss: 1.1882e-04 - val_acc: 1.0000\n",
      "Epoch 23/30\n",
      "150/150 [==============================] - 9s 61ms/step - loss: 1.2366e-05 - acc: 1.0000 - val_loss: 1.1548e-04 - val_acc: 1.0000\n",
      "Epoch 24/30\n",
      "150/150 [==============================] - 9s 60ms/step - loss: 1.1573e-05 - acc: 1.0000 - val_loss: 1.1643e-04 - val_acc: 1.0000\n",
      "Epoch 25/30\n",
      "150/150 [==============================] - 9s 60ms/step - loss: 1.1114e-05 - acc: 1.0000 - val_loss: 1.1098e-04 - val_acc: 1.0000\n",
      "Epoch 26/30\n",
      "150/150 [==============================] - 9s 60ms/step - loss: 1.0907e-05 - acc: 1.0000 - val_loss: 1.0899e-04 - val_acc: 1.0000\n",
      "Epoch 27/30\n",
      "150/150 [==============================] - 9s 61ms/step - loss: 1.0087e-05 - acc: 1.0000 - val_loss: 1.0412e-04 - val_acc: 1.0000\n",
      "Epoch 28/30\n",
      "150/150 [==============================] - 9s 60ms/step - loss: 9.8190e-06 - acc: 1.0000 - val_loss: 1.0017e-04 - val_acc: 1.0000\n",
      "Epoch 29/30\n",
      "150/150 [==============================] - 9s 61ms/step - loss: 9.2759e-06 - acc: 1.0000 - val_loss: 9.7752e-05 - val_acc: 1.0000\n",
      "Epoch 30/30\n",
      "150/150 [==============================] - 9s 61ms/step - loss: 9.0370e-06 - acc: 1.0000 - val_loss: 9.8297e-05 - val_acc: 1.0000\n",
      "268.1706006526947\n"
     ]
    }
   ],
   "source": [
    "import time\n",
    "start = time.time()\n",
    "history = model.fit(x=train_imgs_scaled, y=train_labels_enc,\n",
    "                    validation_data=(validation_imgs_scaled, validation_labels_enc),\n",
    "                    batch_size=batch_size,\n",
    "                    epochs=epochs,\n",
    "                    verbose=1)\n",
    "end = time.time()\n",
    "print(end - start)"
   ]
  },
  {
   "cell_type": "code",
   "execution_count": 7,
   "metadata": {},
   "outputs": [
    {
     "data": {
      "image/png": "[encoded data removed]",
      "text/plain": [
       "<Figure size 864x288 with 2 Axes>"
      ]
     },
     "metadata": {},
     "output_type": "display_data"
    }
   ],
   "source": [
    "def plot_accuracy(history):\n",
    "    f, (ax1, ax2) = plt.subplots(1, 2, figsize=(12, 4))\n",
    "    t = f.suptitle('Basic CNN Performance', fontsize=12)\n",
    "    f.subplots_adjust(top=0.85, wspace=0.3)\n",
    "\n",
    "    epoch_lenght = len(history.history['acc'])+1\n",
    "    epoch_list = list(range(1,epoch_lenght))\n",
    "    ax1.plot(epoch_list, history.history['acc'], label='Train Accuracy')\n",
    "    ax1.plot(epoch_list, history.history['val_acc'], label='Validation Accuracy')\n",
    "    ax1.set_xticks(np.arange(0, epoch_lenght, 5))\n",
    "    ax1.set_ylabel('Accuracy Value')\n",
    "    ax1.set_xlabel('Epoch')\n",
    "    ax1.set_title('Accuracy')\n",
    "    l1 = ax1.legend(loc=\"best\")\n",
    "\n",
    "    ax2.plot(epoch_list, history.history['loss'], label='Train Loss')\n",
    "    ax2.plot(epoch_list, history.history['val_loss'], label='Validation Loss')\n",
    "    ax2.set_xticks(np.arange(0, epoch_lenght, 5))\n",
    "    ax2.set_ylabel('Loss Value')\n",
    "    ax2.set_xlabel('Epoch')\n",
    "    ax2.set_title('Loss')\n",
    "    l2 = ax2.legend(loc=\"best\")\n",
    "plot_accuracy(history)"
   ]
  },
  {
   "cell_type": "markdown",
   "metadata": {},
   "source": [
    "# Prediction"
   ]
  },
  {
   "cell_type": "code",
   "execution_count": 8,
   "metadata": {},
   "outputs": [
    {
     "name": "stdout",
     "output_type": "stream",
     "text": [
      "[1 0 1 0 0 1 1 0 0 0 0 1 0 1 1 0 1 1 1 1 1 0 1 1 0 1 1 0 0 0 1 1 0 0 1 0 0\n",
      " 1 1 0 1 0 0 1 1 1 0 1 1 0 1 1 0 1 1 1 1 0 0 1 1 0 0 1 0 0 0 1 1 0 1 0 1 0\n",
      " 0]\n",
      "[1 0 1 0 0 1 1 0 0 0 0 1 0 1 1 0 1 1 1 1 1 0 1 1 0 1 1 0 0 0 1 1 0 0 1 0 0\n",
      " 1 1 0 1 0 0 1 1 1 0 1 1 0 1 1 0 1 1 1 1 0 0 1 1 0 0 1 0 0 0 1 1 0 1 0 1 0\n",
      " 0]\n"
     ]
    }
   ],
   "source": [
    "predictions = model.predict_classes(test_imgs_scaled).T[0]\n",
    "print (predictions)\n",
    "print (test_labels_enc)"
   ]
  },
  {
   "cell_type": "code",
   "execution_count": 9,
   "metadata": {},
   "outputs": [],
   "source": [
    "class_map = {'0': 'pond', '1':'waterfall'}\n",
    "test_predict_labels = [class_map[str(label)] for label in predictions]\n",
    "test_actual_labels = [class_map[str(label)] for label in test_labels_enc]"
   ]
  },
  {
   "cell_type": "code",
   "execution_count": 10,
   "metadata": {},
   "outputs": [
    {
     "name": "stdout",
     "output_type": "stream",
     "text": [
      "Accuracy: 1.0\n",
      "Precision: 1.0\n",
      "Recall: 1.0\n",
      "F1 Score: 1.0\n"
     ]
    }
   ],
   "source": [
    "from sklearn import metrics\n",
    "def get_metrics(true_labels, predicted_labels):    \n",
    "    print('Accuracy:', metrics.accuracy_score(true_labels, predicted_labels))\n",
    "    print('Precision:', metrics.precision_score(true_labels, predicted_labels, average='weighted'))\n",
    "    print('Recall:', metrics.recall_score(true_labels, predicted_labels, average='weighted'))\n",
    "    print('F1 Score:', metrics.f1_score(true_labels, predicted_labels,average='weighted'))\n",
    "    \n",
    "get_metrics(true_labels=test_actual_labels,predicted_labels=test_predict_labels)"
   ]
  },
  {
   "cell_type": "code",
   "execution_count": 11,
   "metadata": {},
   "outputs": [
    {
     "data": {
      "text/html": [
       "<div>\n",
       "<style scoped>\n",
       "    .dataframe tbody tr th:only-of-type {\n",
       "        vertical-align: middle;\n",
       "    }\n",
       "\n",
       "    .dataframe tbody tr th {\n",
       "        vertical-align: top;\n",
       "    }\n",
       "\n",
       "    .dataframe thead th {\n",
       "        text-align: right;\n",
       "    }\n",
       "</style>\n",
       "<table border=\"1\" class=\"dataframe\">\n",
       "  <thead>\n",
       "    <tr style=\"text-align: right;\">\n",
       "      <th></th>\n",
       "      <th>pond</th>\n",
       "      <th>waterfall</th>\n",
       "    </tr>\n",
       "  </thead>\n",
       "  <tbody>\n",
       "    <tr>\n",
       "      <th>pond</th>\n",
       "      <td>35</td>\n",
       "      <td>0</td>\n",
       "    </tr>\n",
       "    <tr>\n",
       "      <th>waterfall</th>\n",
       "      <td>0</td>\n",
       "      <td>40</td>\n",
       "    </tr>\n",
       "  </tbody>\n",
       "</table>\n",
       "</div>"
      ],
      "text/plain": [
       "           pond  waterfall\n",
       "pond         35          0\n",
       "waterfall     0         40"
      ]
     },
     "execution_count": 11,
     "metadata": {},
     "output_type": "execute_result"
    }
   ],
   "source": [
    "import pandas as pd\n",
    "labels = ['pond','waterfall']\n",
    "cm = metrics.confusion_matrix(y_true=test_actual_labels, y_pred=test_predict_labels)\n",
    "cm_labeled = pd.DataFrame(cm, columns=labels, index=labels)\n",
    "cm_labeled"
   ]
  },
  {
   "cell_type": "code",
   "execution_count": null,
   "metadata": {},
   "outputs": [],
   "source": []
  },
  {
   "cell_type": "code",
   "execution_count": null,
   "metadata": {},
   "outputs": [],
   "source": []
  },
  {
   "cell_type": "code",
   "execution_count": null,
   "metadata": {},
   "outputs": [],
   "source": []
  }
 ],
 "metadata": {
  "kernelspec": {
   "display_name": "Python 3",
   "language": "python",
   "name": "python3"
  },
  "language_info": {
   "codemirror_mode": {
    "name": "ipython",
    "version": 3
   },
   "file_extension": ".py",
   "mimetype": "text/x-python",
   "name": "python",
   "nbconvert_exporter": "python",
   "pygments_lexer": "ipython3",
   "version": "3.6.5"
  }
 },
 "nbformat": 4,
 "nbformat_minor": 2
}
